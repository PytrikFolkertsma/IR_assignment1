{
 "cells": [
  {
   "cell_type": "markdown",
   "metadata": {},
   "source": [
    "# Searching Unstructured and Structured Data #\n",
    "## Assignment 1: Retrieval models [100 points] ##\n",
    "**TA**: Nikos Voskarides (n.voskarides@uva.nl)"
   ]
  },
  {
   "cell_type": "markdown",
   "metadata": {},
   "source": [
    "In this assignment you will get familiar with basic information retrieval concepts. You will implement and evaluate different information retrieval ranking models and evaluate their performance.\n",
    "\n",
    "We provide you with a Indri index. To query the index, you'll use a Python package ([pyndri](https://github.com/cvangysel/pyndri)) that allows easy access to the underlying document statistics.\n",
    "\n",
    "For evaluation you'll use the [TREC Eval](https://github.com/usnistgov/trec_eval) utility, provided by the National Institute of Standards and Technology of the United States. TREC Eval is the de facto standard way to compute Information Retrieval measures and is frequently referenced in scientific papers.\n",
    "\n",
    "This is a **groups-of-three assignment**, the deadline is **Monday, 22/1, at 23:59**. Code quality, informative comments and convincing analysis of the results will be considered when grading. Submission should be done through blackboard, questions can be asked on the course [Piazza](https://piazza.com/class/ixoz63p156g1ts).\n",
    "\n",
    "### Technicalities (must-read!) ###\n",
    "\n",
    "The assignment directory is organized as follows:\n",
    "   * `./assignment.ipynb` (this file): the description of the assignment.\n",
    "   * `./index/`: the index we prepared for you.\n",
    "   * `./ap_88_90/`: directory with ground-truth and evaluation sets:\n",
    "      * `qrel_test`: test query relevance collection (**test set**).\n",
    "      * `qrel_validation`: validation query relevance collection (**validation set**).\n",
    "      * `topics_title`: semicolon-separated file with query identifiers and terms.\n",
    "\n",
    "You will need the following software packages (tested with Python 3.5 inside [Anaconda](https://conda.io/docs/user-guide/install/index.html)):\n",
    "   * Python 3.5 and Jupyter\n",
    "   * Indri + Pyndri (Follow the installation instructions [here](https://github.com/nickvosk/pyndri/blob/master/README.md))\n",
    "   * gensim [link](https://radimrehurek.com/gensim/install.html)\n",
    "   * TREC Eval [link](https://github.com/usnistgov/trec_eval)"
   ]
  },
  {
   "cell_type": "markdown",
   "metadata": {},
   "source": [
    "### TREC Eval primer ###\n",
    "The TREC Eval utility can be downloaded and compiled as follows:\n",
    "\n",
    "    git clone https://github.com/usnistgov/trec_eval.git\n",
    "    cd trec_eval\n",
    "    make\n",
    "\n",
    "TREC Eval computes evaluation scores given two files: ground-truth information regarding relevant documents, named *query relevance* or *qrel*, and a ranking of documents for a set of queries, referred to as a *run*. The *qrel* will be supplied by us and should not be changed. For every retrieval model (or combinations thereof) you will generate a run of the top-1000 documents for every query. The format of the *run* file is as follows:\n",
    "\n",
    "    $query_identifier Q0 $document_identifier $rank_of_document_for_query $query_document_similarity $run_identifier\n",
    "    \n",
    "where\n",
    "   * `$query_identifier` is the unique identifier corresponding to a query (usually this follows a sequential numbering).\n",
    "   * `Q0` is a legacy field that you can ignore.\n",
    "   * `$document_identifier` corresponds to the unique identifier of a document (e.g., APXXXXXXX where AP denotes the collection and the Xs correspond to a unique numerical identifier).\n",
    "   * `$rank_of_document_for_query` denotes the rank of the document for the particular query. This field is ignored by TREC Eval and is only maintained for legacy support. The ranks are computed by TREC Eval itself using the `$query_document_similarity` field (see next). However, it remains good practice to correctly compute this field.\n",
    "   * `$query_document_similarity` is a score indicating the similarity between query and document where a higher score denotes greater similarity.\n",
    "   * `$run_identifier` is an identifier of the run. This field is for your own convenience and has no purpose beyond bookkeeping.\n",
    "   \n",
    "For example, say we have two queries: `Q1` and `Q2` and we rank three documents (`DOC1`, `DOC2`, `DOC3`). For query `Q1`, we find the following similarity scores `score(Q1, DOC1) = 1.0`, `score(Q1, DOC2) = 0.5`, `score(Q1, DOC3) = 0.75`; and for `Q2`: `score(Q2, DOC1) = -0.1`, `score(Q2, DOC2) = 1.25`, `score(Q1, DOC3) = 0.0`. We can generate run using the following snippet:"
   ]
  },
  {
   "cell_type": "code",
   "execution_count": 1,
   "metadata": {
    "scrolled": false
   },
   "outputs": [
    {
     "name": "stdout",
     "output_type": "stream",
     "text": [
      "Q1 Q0 DOC1 1 1.0 example\n",
      "Q1 Q0 DOC3 2 0.75 example\n",
      "Q1 Q0 DOC2 3 0.5 example\n",
      "Q2 Q0 DOC2 1 1.25 example\n",
      "Q2 Q0 DOC3 2 0.0 example\n",
      "Q2 Q0 DOC1 3 -0.1 example\n"
     ]
    }
   ],
   "source": [
    "import logging\n",
    "import sys\n",
    "import os\n",
    "\n",
    "def write_run(model_name, data, out_f,\n",
    "              max_objects_per_query=sys.maxsize,\n",
    "              skip_sorting=False):\n",
    "    \"\"\"\n",
    "    Write a run to an output file.\n",
    "    Parameters:\n",
    "        - model_name: identifier of run.\n",
    "        - data: dictionary mapping topic_id to object_assesments;\n",
    "            object_assesments is an iterable (list or tuple) of\n",
    "            (relevance, object_id) pairs.\n",
    "            The object_assesments iterable is sorted by decreasing order.\n",
    "        - out_f: output file stream.\n",
    "        - max_objects_per_query: cut-off for number of objects per query.\n",
    "    \"\"\"\n",
    "    for subject_id, object_assesments in data.items():\n",
    "        if not object_assesments:\n",
    "            logging.warning('Received empty ranking for %s; ignoring.',\n",
    "                            subject_id)\n",
    "\n",
    "            continue\n",
    "\n",
    "        # Probe types, to make sure everything goes alright.\n",
    "        # assert isinstance(object_assesments[0][0], float) or \\\n",
    "        #     isinstance(object_assesments[0][0], np.float32)\n",
    "        assert isinstance(object_assesments[0][1], str) or \\\n",
    "            isinstance(object_assesments[0][1], bytes)\n",
    "\n",
    "        if not skip_sorting:\n",
    "            object_assesments = sorted(object_assesments, reverse=True)\n",
    "\n",
    "        if max_objects_per_query < sys.maxsize:\n",
    "            object_assesments = object_assesments[:max_objects_per_query]\n",
    "\n",
    "        if isinstance(subject_id, bytes):\n",
    "            subject_id = subject_id.decode('utf8')\n",
    "\n",
    "        for rank, (relevance, object_id) in enumerate(object_assesments):\n",
    "            if isinstance(object_id, bytes):\n",
    "                object_id = object_id.decode('utf8')\n",
    "\n",
    "            out_f.write(\n",
    "                '{subject} Q0 {object} {rank} {relevance} '\n",
    "                '{model_name}\\n'.format(\n",
    "                    subject=subject_id,\n",
    "                    object=object_id,\n",
    "                    rank=rank + 1,\n",
    "                    relevance=relevance,\n",
    "                    model_name=model_name))\n",
    "            \n",
    "# The following writes the run to standard output.\n",
    "# In your code, you should write the runs to local\n",
    "# storage in order to pass them to trec_eval.\n",
    "write_run(\n",
    "    model_name='example',\n",
    "    data={\n",
    "        'Q1': ((1.0, 'DOC1'), (0.5, 'DOC2'), (0.75, 'DOC3')),\n",
    "        'Q2': ((-0.1, 'DOC1'), (1.25, 'DOC2'), (0.0, 'DOC3')),\n",
    "    },\n",
    "    out_f=sys.stdout,\n",
    "    max_objects_per_query=1000)"
   ]
  },
  {
   "cell_type": "markdown",
   "metadata": {},
   "source": [
    "Now, imagine that we know that `DOC1` is relevant and `DOC3` is non-relevant for `Q1`. In addition, for `Q2` we only know of the relevance of `DOC3`. The query relevance file looks like:\n",
    "\n",
    "    Q1 0 DOC1 1\n",
    "    Q1 0 DOC3 0\n",
    "    Q2 0 DOC3 1\n",
    "    \n",
    "We store the run and qrel in files `example.run` and `example.qrel` respectively on disk. We can now use TREC Eval to compute evaluation measures. In this example, we're only interested in Mean Average Precision and we'll only show this below for brevity. However, TREC Eval outputs much more information such as NDCG, recall, precision, etc.\n",
    "\n",
    "    $ trec_eval -m all_trec -q example.qrel example.run | grep -E \"^map\\s\"\n",
    "    > map                   \tQ1\t1.0000\n",
    "    > map                   \tQ2\t0.5000\n",
    "    > map                   \tall\t0.7500\n",
    "    \n",
    "Now that we've discussed the output format of rankings and how you can compute evaluation measures from these rankings, we'll now proceed with an overview of the indexing framework you'll use."
   ]
  },
  {
   "cell_type": "markdown",
   "metadata": {},
   "source": [
    "### Pyndri primer ###\n",
    "For this assignment you will use [Pyndri](https://github.com/cvangysel/pyndri) [[1](https://arxiv.org/abs/1701.00749)], a python interface for [Indri](https://www.lemurproject.org/indri.php). We have indexed the document collection and you can query the index using Pyndri. We will start by giving you some examples of what Pyndri can do:\n",
    "\n",
    "First we read the document collection index with Pyndri:"
   ]
  },
  {
   "cell_type": "code",
   "execution_count": 2,
   "metadata": {
    "collapsed": true,
    "scrolled": true
   },
   "outputs": [],
   "source": [
    "import pyndri\n",
    "\n",
    "index = pyndri.Index('index/')"
   ]
  },
  {
   "cell_type": "markdown",
   "metadata": {},
   "source": [
    "The loaded index can be used to access a collection of documents in an easy manner. We'll give you some examples to get some idea of what it can do, it is up to you to figure out how to use it for the remainder of the assignment.\n",
    "\n",
    "First let's look at the number of documents, since Pyndri indexes the documents using incremental identifiers we can simply take the lowest index and the maximum document and consider the difference:"
   ]
  },
  {
   "cell_type": "code",
   "execution_count": 3,
   "metadata": {},
   "outputs": [
    {
     "name": "stdout",
     "output_type": "stream",
     "text": [
      "There are 164597 documents in this collection.\n"
     ]
    }
   ],
   "source": [
    "print(\"There are %d documents in this collection.\" % (index.maximum_document() - index.document_base()))"
   ]
  },
  {
   "cell_type": "markdown",
   "metadata": {},
   "source": [
    "Let's take the first document out of the collection and take a look at it:"
   ]
  },
  {
   "cell_type": "code",
   "execution_count": 4,
   "metadata": {
    "scrolled": true
   },
   "outputs": [
    {
     "ename": "NameError",
     "evalue": "name 'ext_doc_ids' is not defined",
     "output_type": "error",
     "traceback": [
      "\u001b[0;31m---------------------------------------------------------------------------\u001b[0m",
      "\u001b[0;31mNameError\u001b[0m                                 Traceback (most recent call last)",
      "\u001b[0;32m<ipython-input-4-1f4d0319fd59>\u001b[0m in \u001b[0;36m<module>\u001b[0;34m()\u001b[0m\n\u001b[1;32m      4\u001b[0m \u001b[0;34m\u001b[0m\u001b[0m\n\u001b[1;32m      5\u001b[0m \u001b[0mkey\u001b[0m \u001b[0;34m=\u001b[0m \u001b[0;36m0\u001b[0m\u001b[0;34m\u001b[0m\u001b[0m\n\u001b[0;32m----> 6\u001b[0;31m \u001b[0;32mfor\u001b[0m \u001b[0mkey\u001b[0m \u001b[0;32min\u001b[0m \u001b[0mext_doc_ids\u001b[0m\u001b[0;34m:\u001b[0m\u001b[0;34m\u001b[0m\u001b[0m\n\u001b[0m\u001b[1;32m      7\u001b[0m     \u001b[0;32mif\u001b[0m \u001b[0mext_doc_ids\u001b[0m\u001b[0;34m[\u001b[0m\u001b[0mkey\u001b[0m\u001b[0;34m]\u001b[0m \u001b[0;34m==\u001b[0m \u001b[0;34m'AP891223-0055'\u001b[0m\u001b[0;34m:\u001b[0m\u001b[0;34m\u001b[0m\u001b[0m\n\u001b[1;32m      8\u001b[0m         \u001b[0mint_doc_id\u001b[0m \u001b[0;34m=\u001b[0m \u001b[0mkey\u001b[0m\u001b[0;34m\u001b[0m\u001b[0m\n",
      "\u001b[0;31mNameError\u001b[0m: name 'ext_doc_ids' is not defined"
     ]
    }
   ],
   "source": [
    "# example_document = index.document(index.document_base())\n",
    "example_document = index.document(117156)\n",
    "# print(example_document)\n",
    "\n",
    "key = 0\n",
    "for key in ext_doc_ids:\n",
    "    if ext_doc_ids[key] == 'AP891223-0055':\n",
    "        int_doc_id = key\n",
    "\n",
    "print(int_doc_id) #117156 #7052\n",
    "\n",
    "example_document = index.document(7052)"
   ]
  },
  {
   "cell_type": "markdown",
   "metadata": {},
   "source": [
    "Here we see a document consists of two things, a string representing the external document identifier and an integer list representing the identifiers of words that make up the document. Pyndri uses integer representations for words or terms, thus a token_id is an integer that represents a word whereas the token is the actual text of the word/term. Every id has a unique token and vice versa with the exception of stop words: words so common that there are uninformative, all of these receive the zero id.\n",
    "\n",
    "To see what some ids and their matching tokens we take a look at the dictionary of the index:"
   ]
  },
  {
   "cell_type": "code",
   "execution_count": 5,
   "metadata": {},
   "outputs": [
    {
     "name": "stdout",
     "output_type": "stream",
     "text": [
      "[(1, 'new'), (2, 'percent'), (3, 'two'), (4, '1'), (5, 'people'), (6, 'million'), (7, '000'), (8, 'government'), (9, 'president'), (10, 'years'), (11, 'state'), (12, '2'), (13, 'states'), (14, 'three'), (15, 'time')]\n"
     ]
    }
   ],
   "source": [
    "token2id, id2token, _ = index.get_dictionary()\n",
    "print(list(id2token.items())[:15])"
   ]
  },
  {
   "cell_type": "markdown",
   "metadata": {},
   "source": [
    "Using this dictionary we can see the tokens for the (non-stop) words in our example document:"
   ]
  },
  {
   "cell_type": "code",
   "execution_count": 6,
   "metadata": {},
   "outputs": [
    {
     "name": "stdout",
     "output_type": "stream",
     "text": [
      "['europeans', 'discuss', 'dispute', 'airbus', 'subsidies', 'european', 'trade', 'officials', 'holding', 'new', 'talks', 'lengthy', 'dispute', 'government', 'subsidies', 'airbus', 'aircraft', 'manufacturing', 'consortium', 'sides', 'remain', 'long', 'simmering', 'issue', 'subsidies', 'airbus', 'united', 'states', 'contends', 'unfair', 'trade', 'envoys', 'optimistic', 'outcome', 'meeting', 'expectations', 'low', 'official', 'close', 'negotiations', 'thursday', 'delegation', 'led', 'trade', 'representative', 'clayton', 'yeutter', 'expected', 'todays', 'meeting', 'increase', 'pressure', 'economic', 'ministers', 'representing', 'four', 'airbus', 'countries', 'abolish', 'least', 'scale', 'payments', 'sources', 'officials', 'grown', 'impatient', 'slow', 'progress', 'talks', 'looking', 'indications', 'airbus', 'nations', 'least', 'willing', 'agree', 'reduce', 'support', 'sources', 'americans', 'minimum', 'europeans', 'give', 'signal', 'willing', 'accept', 'effective', 'discipline', 'regard', 'subsidies', 'informed', 'diplomatic', 'source', 'asked', 'identified', 'earlier', 'united', 'states', 'estimates', 'four', 'countries', 'involved', 'airbus', 'industrie', 'consortium', 'france', 'britain', 'west', 'germany', 'spain', 'given', '10', 'billion', 'consortium', 'created', '17', 'years', 'ago', 'willy', 'de', 'clercq', 'european', 'economic', 'communitys', 'external', 'relations', 'commissioner', 'realistic', 'chance', 'settling', 'dispute', 'eec', 'governments', 'entirely', 'renounce', 'state', 'aid', 'payments', 'airbus', 'de', 'clercq', 'predicted', 'agreement', 'require', 'rounds', 'difficult', 'negotiations', 'united', 'states', 'maintains', 'subsidies', 'airbus', 'unfair', 'aircraft', 'makers', 'wide', 'body', 'long', 'haul', 'passenger', 'jet', 'market', 'airbus', 'nations', 'contend', 'subsidies', 'distort', 'trade', 'allowed', 'civil', 'aircraft', 'provisions', 'general', 'agreement', 'tariffs', 'trade', 'eec', 'argues', 'aircraft', 'manufacturers', 'long', 'enjoyed', 'huge', 'indirect', 'subsidies', 'military', 'contracts', 'pentagon', 'millions', 'government', 'research', 'grants', 'eec', 'figures', 'united', 'states', 'exports', '5', 'billion', 'worth', 'aircraft', 'aircraft', 'parts', 'western', 'europe', 'compared', '3', 'billion', 'european', 'aircraft', 'exports', 'annually', 'united', 'states', 'eec', 'says', 'outstanding', 'european', 'orders', 'options', 'aircraft', 'total', '23', 'billion', 'orders', 'options', 'airbus', 'stand', '13', 'billion', 'united', 'states', 'contends', 'airbus', '35', 'percent', 'world', 'market', 'figure', 'eec', 'rejects', 'high', 'eec', 'claims', 'manufacturers', 'dominate', 'worldwide', 'civilian', 'aircraft', 'market', 'boeing', 'controlling', '49', 'percent', 'market', 'mcdonnell', 'douglas', 'corp', '17', 'percent', 'airbus', '25', 'percent', 'share', 'united', 'states', 'threatened', 'retaliate', 'airbus', 'negotiations', 'fail', 'despite', 'recent', 'decision', 'four', 'airbus', 'ministers', 'airbus', 'managers', 'enter', 'direct', 'negotiations', 'mcdonnell', 'douglas', 'possible', 'joint', 'project', 'aim', 'talks', 'two', 'sides', 'collaborate', 'new', 'airplanes', 'proposal', 'new', 'aircraft', 'compete', 'existing', 'models', 'diplomatic', 'sources', 'told', 'associated', 'press', 'move', 'unlikely', 'reduce', 'tensions', 'subsidy', 'issue', 'helpful', 'airbus', 'mcdonnell', 'douglas', 'agree', 'joint', 'project', 'solve', 'core', 'problem', 'current', 'subsidies', 'diplomatic', 'source', 'declined', 'identified']\n"
     ]
    }
   ],
   "source": [
    "print([id2token[word_id] for word_id in example_document[1] if word_id > 0])"
   ]
  },
  {
   "cell_type": "markdown",
   "metadata": {},
   "source": [
    "The reverse can also be done, say we want to look for news about the \"University of Massachusetts\", the tokens of that query can be converted to ids using the reverse dictionary:"
   ]
  },
  {
   "cell_type": "code",
   "execution_count": 7,
   "metadata": {},
   "outputs": [
    {
     "name": "stdout",
     "output_type": "stream",
     "text": [
      "Query by tokens: ['university', '', 'massachusetts']\n",
      "Query by ids with stopwords: [200, 0, 894]\n",
      "Query by ids without stopwords: [200, 894]\n"
     ]
    }
   ],
   "source": [
    "query_tokens = index.tokenize(\"University of Massachusetts\")\n",
    "print(\"Query by tokens:\", query_tokens)\n",
    "query_id_tokens = [token2id.get(query_token,0) for query_token in query_tokens]\n",
    "print(\"Query by ids with stopwords:\", query_id_tokens)\n",
    "query_id_tokens = [word_id for word_id in query_id_tokens if word_id > 0]\n",
    "print(\"Query by ids without stopwords:\", query_id_tokens)"
   ]
  },
  {
   "cell_type": "code",
   "execution_count": 8,
   "metadata": {},
   "outputs": [
    {
     "name": "stdout",
     "output_type": "stream",
     "text": [
      "['u', 's']\n",
      "5465\n"
     ]
    },
    {
     "ename": "NameError",
     "evalue": "name 'inverted_index' is not defined",
     "output_type": "error",
     "traceback": [
      "\u001b[0;31m---------------------------------------------------------------------------\u001b[0m",
      "\u001b[0;31mNameError\u001b[0m                                 Traceback (most recent call last)",
      "\u001b[0;32m<ipython-input-8-7cfe23f9645d>\u001b[0m in \u001b[0;36m<module>\u001b[0;34m()\u001b[0m\n\u001b[1;32m      3\u001b[0m \u001b[0ma\u001b[0m \u001b[0;34m=\u001b[0m \u001b[0mtoken2id\u001b[0m\u001b[0;34m.\u001b[0m\u001b[0mget\u001b[0m\u001b[0;34m(\u001b[0m\u001b[0mt\u001b[0m\u001b[0;34m[\u001b[0m\u001b[0;36m0\u001b[0m\u001b[0;34m]\u001b[0m\u001b[0;34m)\u001b[0m\u001b[0;34m\u001b[0m\u001b[0m\n\u001b[1;32m      4\u001b[0m \u001b[0mprint\u001b[0m\u001b[0;34m(\u001b[0m\u001b[0ma\u001b[0m\u001b[0;34m)\u001b[0m\u001b[0;34m\u001b[0m\u001b[0m\n\u001b[0;32m----> 5\u001b[0;31m \u001b[0minverted_index\u001b[0m\u001b[0;34m.\u001b[0m\u001b[0mget\u001b[0m\u001b[0;34m(\u001b[0m\u001b[0ma\u001b[0m\u001b[0;34m)\u001b[0m\u001b[0;34m\u001b[0m\u001b[0m\n\u001b[0m",
      "\u001b[0;31mNameError\u001b[0m: name 'inverted_index' is not defined"
     ]
    }
   ],
   "source": [
    "t = index.tokenize('U.S.')\n",
    "print(t)\n",
    "a = token2id.get(t[0])\n",
    "print(a)\n",
    "inverted_index.get(a)"
   ]
  },
  {
   "cell_type": "markdown",
   "metadata": {},
   "source": [
    "Naturally we can now match the document and query in the id space, let's see how often a word from the query occurs in our example document:"
   ]
  },
  {
   "cell_type": "code",
   "execution_count": 9,
   "metadata": {},
   "outputs": [
    {
     "name": "stdout",
     "output_type": "stream",
     "text": [
      "Document AP880318-0287 has 0 word matches with query: \"university  massachusetts\".\n",
      "Document AP880318-0287 and query \"university  massachusetts\" have a 0.0% overlap.\n"
     ]
    }
   ],
   "source": [
    "matching_words = sum([True for word_id in example_document[1] if word_id in query_id_tokens])\n",
    "print(\"Document %s has %d word matches with query: \\\"%s\\\".\" % (example_document[0], matching_words, ' '.join(query_tokens)))\n",
    "print(\"Document %s and query \\\"%s\\\" have a %.01f%% overlap.\" % (example_document[0], ' '.join(query_tokens),matching_words/float(len(example_document[1]))*100))"
   ]
  },
  {
   "cell_type": "markdown",
   "metadata": {},
   "source": [
    "While this is certainly not everything Pyndri can do, it should give you an idea of how to use it. Please take a look at the [examples](https://github.com/cvangysel/pyndri) as it will help you a lot with this assignment.\n",
    "\n",
    "**CAUTION**: Avoid printing out the whole index in this Notebook as it will generate a lot of output and is likely to corrupt the Notebook."
   ]
  },
  {
   "cell_type": "markdown",
   "metadata": {},
   "source": [
    "### Parsing the query file\n",
    "You can parse the query file (`ap_88_89/topics_title`) using the following snippet:"
   ]
  },
  {
   "cell_type": "code",
   "execution_count": 10,
   "metadata": {},
   "outputs": [
    {
     "name": "stdout",
     "output_type": "stream",
     "text": [
      "OrderedDict([('51', 'Airbus Subsidies'), ('52', 'South African Sanctions'), ('53', 'Leveraged Buyouts'), ('54', 'Satellite Launch Contracts'), ('55', 'Insider Trading'), ('56', 'Prime (Lending) Rate Moves, Predictions'), ('57', 'MCI'), ('58', 'Rail Strikes'), ('59', 'Weather Related Fatalities'), ('60', 'Merit-Pay vs. Seniority'), ('61', 'Israeli Role in Iran-Contra Affair'), ('62', \"Military Coups D'etat\"), ('63', 'Machine Translation'), ('64', 'Hostage-Taking'), ('65', 'Information Retrieval Systems'), ('66', 'Natural Language Processing'), ('67', 'Politically Motivated Civil Disturbances'), ('68', 'Health Hazards from Fine-Diameter Fibers'), ('69', 'Attempts to Revive the SALT II Treaty'), ('70', 'Surrogate Motherhood'), ('71', 'Border Incursions'), ('72', 'Demographic Shifts in the U.S.'), ('73', 'Demographic Shifts across National Boundaries'), ('74', 'Conflicting Policy'), ('75', 'Automation'), ('76', 'U.S. Constitution - Original Intent'), ('77', 'Poaching'), ('78', 'Greenpeace'), ('79', 'FRG Political Party Positions'), ('80', '1988 Presidential Candidates Platforms'), ('81', 'Financial crunch for televangelists in the wake of the PTL scandal'), ('82', 'Genetic Engineering'), ('83', 'Measures to Protect the Atmosphere'), ('84', 'Alternative/renewable Energy Plant & Equipment Installation'), ('85', 'Official Corruption'), ('86', 'Bank Failures'), ('87', 'Criminal Actions Against Officers of Failed Financial Institutions'), ('88', 'Crude Oil Price Trends'), ('89', '\"Downstream\" Investments by OPEC Member States'), ('90', 'Data on Proven Reserves of Oil & Natural Gas Producers'), ('91', 'U.S. Army Acquisition of Advanced Weapons Systems'), ('92', 'International Military Equipment Sales'), ('93', 'What Backing Does the National Rifle Association Have?'), ('94', 'Computer-aided Crime'), ('95', 'Computer-aided Crime Detection'), ('96', 'Computer-Aided Medical Diagnosis'), ('97', 'Fiber Optics Applications'), ('98', 'Fiber Optics Equipment Manufacturers'), ('99', 'Iran-Contra Affair'), ('100', 'Controlling the Transfer of High Technology'), ('101', 'Design of the \"Star Wars\" Anti-missile Defense System'), ('102', \"Laser Research Applicable to the U.S.'s Strategic Defense Initiative\"), ('103', 'Welfare Reform'), ('104', 'Catastrophic Health Insurance'), ('105', '\"Black Monday\"'), ('106', 'U.S. Control of Insider Trading'), ('107', 'Japanese Regulation of Insider Trading'), ('108', 'Japanese Protectionist Measures'), ('109', 'Find Innovative Companies'), ('110', 'Black Resistance Against the South African Government'), ('111', 'Nuclear Proliferation'), ('112', 'Funding Biotechnology'), ('113', 'New Space Satellite Applications'), ('114', 'Non-commercial Satellite Launches'), ('115', 'Impact of the 1986 Immigration Law'), ('116', 'Generic Drug Substitutions'), ('117', 'Capacity of the U.S. Cellular Telephone Network'), ('118', 'International Terrorists'), ('119', 'Actions Against International Terrorists'), ('120', 'Economic Impact of International Terrorism'), ('121', 'Death from Cancer'), ('122', 'RDT&E of New Cancer Fighting Drugs'), ('123', 'Research into & Control of Carcinogens'), ('124', 'Alternatives to Traditional Cancer Therapies'), ('125', 'Anti-smoking Actions by Government'), ('126', 'Medical Ethics and Modern Technology'), ('127', 'U.S.-U.S.S.R. Arms Control Agreements'), ('128', 'Privatization of State Assets'), ('129', 'Soviet Spying on the U.S.'), ('130', 'Jewish Emigration and U.S.-USSR Relations'), ('131', 'McDonnell Douglas Contracts for Military Aircraft'), ('132', '\"Stealth\" Aircraft'), ('133', 'Hubble Space Telescope'), ('134', 'The Human Genome Project'), ('135', 'Possible Contributions of Gene Mapping to Medicine'), ('136', 'Diversification by Pacific Telesis'), ('137', 'Expansion in the U.S. Theme Park Industry'), ('138', 'Iranian Support for Lebanese Hostage-takers'), ('139', \"Iran's Islamic Revolution - Domestic and Foreign Social Consequences\"), ('140', 'Political Impact of Islamic Fundamentalism'), ('141', \"Japan's Handling of its Trade Surplus with the U.S.\"), ('142', 'Impact of Government Regulated Grain Farming on International Relations'), ('143', 'Why Protect U.S. Farmers?'), ('144', 'Management Problems at the United Nations'), ('145', 'Influence of the \"Pro-Israel Lobby\"'), ('146', 'Negotiating an End to the Nicaraguan Civil War'), ('147', 'Productivity Trends in the U.S. Economy'), ('148', 'Conflict in the Horn of Africa'), ('149', 'Industrial Espionage'), ('150', 'U.S. Political Campaign Financing'), ('151', 'Coping with overcrowded prisons'), ('152', 'Accusations of Cheating by Contractors on U.S. Defense Projects'), ('153', 'Insurance Coverage which pays for Long Term Care'), ('154', 'Oil Spills'), ('155', 'Right Wing Christian Fundamentalism in U.S.'), ('156', 'Efforts to enact Gun Control Legislation'), ('157', 'Causes and treatments of multiple sclerosis (MS)'), ('158', 'Term limitations for members of the U.S. Congress'), ('159', 'Electric Car Development'), ('160', 'Vitamins - The Cure for or Cause of Human Ailments'), ('161', 'Acid Rain'), ('162', 'Automobile Recalls'), ('163', 'Vietnam Veterans and Agent Orange'), ('164', 'Generic Drugs - Illegal Activities by Manufacturers'), ('165', 'Tobacco company advertising and the young'), ('166', 'Standardized testing and cultural bias'), ('167', 'Regulation of the showing of violence and explicit sex in motion picture theaters, on television, and on video cassettes.'), ('168', 'Financing AMTRAK'), ('169', 'Cost of Garbage/Trash Removal'), ('170', 'The Consequences of Implantation of Silicone Gel Breast Devices'), ('171', \"Use of Mutual Funds in an Individual's Retirement Strategy\"), ('172', 'The Effectiveness of Medical Products and Related Programs Utilized in the Cessation of Smoking.'), ('173', 'Smoking Bans'), ('174', 'Hazardous Waste Cleanup'), ('175', 'NRA Prevention of Gun Control Legislation'), ('176', 'Real-life private investigators'), ('177', 'English as the Official Language in U.S.'), ('178', 'Dog Maulings'), ('179', 'U. S. Restaurants in Foreign Lands'), ('180', 'Ineffectiveness of U.S. Embargoes/Sanctions'), ('181', 'Abuse of the Elderly by Family Members, and Medical and Nonmedical Personnel, and Initiatives Being Taken to Minimize This Mistreatment'), ('182', 'Commercial Overfishing Creates Food Fish Deficit'), ('183', 'Asbestos Related Lawsuits'), ('184', 'Corporate Pension Plans/Funds'), ('185', 'Reform of the U.S. Welfare System'), ('186', 'Difference of Learning Levels Among Inner City and More Suburban School Students'), ('187', 'Signs of the Demise of Independent Publishing'), ('188', 'Beachfront Erosion'), ('189', 'Real Motives for Murder'), ('190', 'Instances of Fraud Involving the Use of a Computer'), ('191', 'Efforts to Improve U.S. Schooling'), ('192', 'Oil Spill Cleanup'), ('193', 'Toys R Dangerous'), ('194', 'The Amount of Money Earned by Writers'), ('195', 'Stock Market Perturbations Attributable to Computer Initiated Trading'), ('196', 'School Choice Voucher System and its effects upon the entire U.S. educational program'), ('197', 'Reform of the jurisprudence system to stop juries from granting unreasonable monetary awards'), ('198', 'Gene Therapy and Its Benefits to Humankind'), ('199', 'Legality of Medically Assisted Suicides'), ('200', 'Impact of foreign textile imports on U.S. textile industry')])\n"
     ]
    }
   ],
   "source": [
    "import collections\n",
    "import io\n",
    "import logging\n",
    "import sys\n",
    "\n",
    "def parse_topics(file_or_files,\n",
    "                 max_topics=sys.maxsize, delimiter=';'):\n",
    "    assert max_topics >= 0 or max_topics is None\n",
    "\n",
    "    topics = collections.OrderedDict()\n",
    "\n",
    "    if not isinstance(file_or_files, list) and \\\n",
    "            not isinstance(file_or_files, tuple):\n",
    "        if hasattr(file_or_files, '__iter__'):\n",
    "            file_or_files = list(file_or_files)\n",
    "        else:\n",
    "            file_or_files = [file_or_files]\n",
    "\n",
    "    for f in file_or_files:\n",
    "        assert isinstance(f, io.IOBase)\n",
    "\n",
    "        for line in f:\n",
    "            assert(isinstance(line, str))\n",
    "\n",
    "            line = line.strip()\n",
    "\n",
    "            if not line:\n",
    "                continue\n",
    "\n",
    "            topic_id, terms = line.split(delimiter, 1)\n",
    "\n",
    "            if topic_id in topics and (topics[topic_id] != terms):\n",
    "                    logging.error('Duplicate topic \"%s\" (%s vs. %s).',\n",
    "                                  topic_id,\n",
    "                                  topics[topic_id],\n",
    "                                  terms)\n",
    "\n",
    "            topics[topic_id] = terms\n",
    "\n",
    "            if max_topics > 0 and len(topics) >= max_topics:\n",
    "                break\n",
    "\n",
    "    return topics\n",
    "\n",
    "with open('./ap_88_89/topics_title', 'r') as f_topics:\n",
    "    print(parse_topics([f_topics]))"
   ]
  },
  {
   "cell_type": "markdown",
   "metadata": {},
   "source": [
    "### Task 1: Implement and compare lexical IR methods [40 points] ### \n",
    "\n",
    "In this task you will implement a number of lexical methods for IR using the **Pyndri** framework. Then you will evaluate these methods on the dataset we have provided using **TREC Eval**.\n",
    "\n",
    "Use the **Pyndri** framework to get statistics of the documents (term frequency, document frequency, collection frequency; **you are not allowed to use the query functionality of Pyndri**) and implement the following scoring methods in **Python**:\n",
    "\n",
    "- [TF-IDF](http://nlp.stanford.edu/IR-book/html/htmledition/tf-idf-weighting-1.html). **[5 points]**\n",
    "- [BM25](http://nlp.stanford.edu/IR-book/html/htmledition/okapi-bm25-a-non-binary-model-1.html) with k1=1.2 and b=0.75. **[5 points]**\n",
    "- Language models ([survey](https://drive.google.com/file/d/0B-zklbckv9CHc0c3b245UW90NE0/view))\n",
    "    - Jelinek-Mercer (explore different values of 𝛌 in the range [0.1, 0.5, 0.9]). **[10 points]**\n",
    "    - Dirichlet Prior (explore different values of 𝛍 [500, 1000, 1500]). **[5 points]**\n",
    "    - Absolute discounting (explore different values of 𝛅 in the range [0.1, 0.5, 0.9]). **[5 points]**\n",
    "    \n",
    "Implement the above methods and report evaluation measures (on the test set) using the hyper parameter values you optimized on the validation set (also report the values of the hyper parameters). Use TREC Eval to obtain the results and report on `NDCG@10`, Mean Average Precision (`MAP@1000`), `Precision@5` and `Recall@1000`.\n",
    "\n",
    "For the language models, create plots showing `NDCG@10` with varying values of the parameters. You can do this by chaining small scripts using shell scripting (preferred) or execute trec_eval using Python's `subprocess`.\n",
    "\n",
    "Compute significance of the results using a [two-tailed paired Student t-test](https://docs.scipy.org/doc/scipy/reference/generated/scipy.stats.ttest_rel.html) **[10 points]**. Be wary of false rejection of the null hypothesis caused by the [multiple comparisons problem](https://en.wikipedia.org/wiki/Multiple_comparisons_problem). There are multiple ways to mitigate this problem and it is up to you to choose one.\n",
    "\n",
    "Analyse the results by identifying specific queries where different methods succeed or fail and discuss possible reasons that cause these differences. This is *very important* in order to understand how the different retrieval functions behave.\n",
    "\n",
    "**NOTE**: Don’t forget to use log computations in your calculations to avoid underflows. "
   ]
  },
  {
   "cell_type": "markdown",
   "metadata": {},
   "source": [
    "**IMPORTANT**: You should structure your code around the helper functions we provide below."
   ]
  },
  {
   "cell_type": "code",
   "execution_count": 11,
   "metadata": {},
   "outputs": [
    {
     "name": "stdout",
     "output_type": "stream",
     "text": [
      "Gathering statistics about 456 terms.\n",
      "Inverted index creation took 50.458834171295166 seconds.\n"
     ]
    }
   ],
   "source": [
    "import time\n",
    "\n",
    "with open('./ap_88_89/topics_title', 'r') as f_topics:\n",
    "    queries = parse_topics([f_topics])\n",
    "\n",
    "index = pyndri.Index('index/')\n",
    "\n",
    "num_documents = index.maximum_document() - index.document_base()\n",
    "\n",
    "dictionary = pyndri.extract_dictionary(index)\n",
    "\n",
    "tokenized_queries = {\n",
    "    query_id: [dictionary.translate_token(token)\n",
    "               for token in index.tokenize(query_string)\n",
    "               if dictionary.has_token(token)]\n",
    "    for query_id, query_string in queries.items()}\n",
    "\n",
    "#query_term_ids = all words in 150 queries\n",
    "query_term_ids = set(\n",
    "    query_term_id\n",
    "    for query_term_ids in tokenized_queries.values()\n",
    "    for query_term_id in query_term_ids)\n",
    "\n",
    "print('Gathering statistics about', len(query_term_ids), 'terms.')\n",
    "start_time = time.time()\n",
    "# inverted index creation.\n",
    "\n",
    "#length of each of the 164597 documents -> key=index, value=length(int)\n",
    "document_lengths = {}\n",
    "\n",
    "#-> key=index, value=nr of unique words in document (int)\n",
    "unique_terms_per_document = {}\n",
    "\n",
    "#-> key=term, value=dict(key=doc_id, value=term_freq)\n",
    "inverted_index = collections.defaultdict(dict)\n",
    "\n",
    "#-> key=query_term_id, value=total nr of occurence in all documents\n",
    "collection_frequencies = collections.defaultdict(int)\n",
    "\n",
    "#total of all words in all documents\n",
    "total_terms = 0\n",
    "\n",
    "total_nr_docs = index.maximum_document() - index.document_base()\n",
    "\n",
    "#external doc_ids -> key=int_doc_id, value=ext_doc_id\n",
    "ext_doc_ids = {}\n",
    "ext_to_int_doc_ids = {}\n",
    "\n",
    "for int_doc_id in range(index.document_base(), index.maximum_document()):\n",
    "    #loop over all documents in index\n",
    "    ext_doc_id, doc_token_ids = index.document(int_doc_id)\n",
    "#     print(ext_doc_id)\n",
    "    ext_doc_ids[int_doc_id] = ext_doc_id\n",
    "    ext_to_int_doc_ids[ext_doc_id] = int_doc_id\n",
    "    #document_bow = bag-of-words of the document -> key=token_id, value=nr of times token_id occured in document\n",
    "    document_bow = collections.Counter(\n",
    "        token_id for token_id in doc_token_ids\n",
    "        if token_id > 0)\n",
    "    document_length = sum(document_bow.values())\n",
    "#     print(document_bow)\n",
    "    document_lengths[int_doc_id] = document_length\n",
    "    total_terms += document_length\n",
    "\n",
    "    unique_terms_per_document[int_doc_id] = len(document_bow)\n",
    "\n",
    "    for query_term_id in query_term_ids:\n",
    "        assert query_term_id is not None\n",
    "\n",
    "        #document_term_frequency = nr of times the query_term_id occured in the document\n",
    "        document_term_frequency = document_bow.get(query_term_id, 0)\n",
    "        if document_term_frequency == 0:\n",
    "            continue\n",
    "\n",
    "        collection_frequencies[query_term_id] += document_term_frequency\n",
    "        inverted_index[query_term_id][int_doc_id] = document_term_frequency\n",
    "\n",
    "avg_doc_length = total_terms / num_documents\n",
    "\n",
    "print('Inverted index creation took', time.time() - start_time, 'seconds.')"
   ]
  },
  {
   "cell_type": "code",
   "execution_count": 74,
   "metadata": {},
   "outputs": [
    {
     "name": "stdout",
     "output_type": "stream",
     "text": [
      "13\n"
     ]
    }
   ],
   "source": [
    "# print(tokenized_queries)\n",
    "# print(tokenized_queries)\n",
    "# print(inverted_index[0])\n",
    "print(inverted_index[192][1])\n",
    "# print(id2token[11])\n",
    "#collection_frequences => key=query_term_id, value=nr. of occurences\n"
   ]
  },
  {
   "cell_type": "code",
   "execution_count": 78,
   "metadata": {},
   "outputs": [
    {
     "name": "stdout",
     "output_type": "stream",
     "text": [
      "1987\n",
      "[5872, 3066]\n"
     ]
    }
   ],
   "source": [
    "# print(len(inverted_index.get(192, 0)))\n",
    "# print(inverted_index[192][1])\n",
    "# [5872, 3066]\n",
    "# print(inverted_index.get((582,3066))\n",
    "q = [5872, 3066]\n",
    "# doc = [inverted_index[term].keys() for term in query]\n",
    "doc = [doc_id for term in q for doc_id in inverted_index[term].keys()]\n",
    "print(len(doc))\n",
    "# print(collection_frequencies.get(192,0))"
   ]
  },
  {
   "cell_type": "code",
   "execution_count": 14,
   "metadata": {
    "collapsed": true
   },
   "outputs": [],
   "source": [
    "import numpy as np\n",
    "\n",
    "def run_retrieval(model_name, score_fn):\n",
    "    \"\"\"\n",
    "    Runs a retrieval method for all the queries and writes the TREC-friendly results in a file.\n",
    "    \n",
    "    :param model_name: the name of the model (a string)\n",
    "    :param score_fn: the scoring function (a function - see below for an example) \n",
    "    \"\"\"\n",
    "    run_out_path = 'results_run/{}.run'.format(model_name)\n",
    "\n",
    "#     if os.path.exists(run_out_path):\n",
    "#     return\n",
    "\n",
    "    retrieval_start_time = time.time()\n",
    "\n",
    "    print('Retrieving using', model_name)\n",
    "    \n",
    "    data = {}\n",
    "\n",
    "    # TODO: fill the data dictionary. \n",
    "    # The dictionary data should have the form: query_id --> (document_score, external_doc_id)\n",
    "    \n",
    "    for query_id in tokenized_queries:\n",
    "#         print(query_id)\n",
    "        query = tokenized_queries[query_id]\n",
    "        doc_ids = set([doc_id for term in query for doc_id in inverted_index[term].keys()])\n",
    "        data[query_id] = []\n",
    "        for doc_id in doc_ids:\n",
    "            score = 0\n",
    "            for term_id in query:\n",
    "                doc_term_freq = len(inverted_index.get(term_id, 0))\n",
    "                score += score_fn(doc_id, term_id, doc_term_freq)\n",
    "            data[query_id].append((score, ext_doc_ids[doc_id]))\n",
    "    \n",
    "    print('Retrieval took', time.time() - retrieval_start_time, 'seconds.')\n",
    "    \n",
    "    with open(run_out_path, 'w') as f_out:\n",
    "        write_run(\n",
    "            model_name=model_name,\n",
    "            data=data,\n",
    "            out_f=f_out,\n",
    "            max_objects_per_query=1000)\n"
   ]
  },
  {
   "cell_type": "code",
   "execution_count": 15,
   "metadata": {
    "collapsed": true
   },
   "outputs": [],
   "source": [
    "def get_tf(query_term_id, int_document_id=None):\n",
    "    \"\"\"\n",
    "    Returns term frequency for a document if a document_id is given,\n",
    "    or for the entire collection if no document_id is given.\n",
    "    \"\"\"\n",
    "    if int_document_id:\n",
    "        return float(inverted_index.get(query_term_id, 0).get(int_document_id, 0))\n",
    "    else:\n",
    "        return collection_frequencies.get(query_term_id, 0)\n",
    "\n",
    "def get_bg_prob(query_term_id, document_term_freq=None):\n",
    "    tf_col = get_tf(query_term_id)\n",
    "    bg_prob = tf_col/total_terms\n",
    "    \n",
    "#     doc_ids = [doc_id for doc_id in inverted_index[query_term_id].keys()]\n",
    "#     sum_docs = sum([get_tf(query_term_id, int_doc_id)/document_lengths[int_doc_id] for int_doc_id in doc_ids])\n",
    "#     bg_prob = (1/total_terms) * (sum_docs)\n",
    "  \n",
    "    return bg_prob\n",
    "    \n",
    "def tfidf(int_document_id, query_term_id, document_term_freq):\n",
    "    \"\"\"\n",
    "    Scoring function for a document and a query term\n",
    "    \n",
    "    :param int_document_id: the document id\n",
    "    :param query_token_id: the query term id (assuming you have split the query to tokens)\n",
    "    :param document_term_freq: the document term frequency of the query term \n",
    "    \"\"\"\n",
    "\n",
    "    # TODO implement the function\n",
    "    idf = np.log(total_nr_docs/document_term_freq)\n",
    "    tf = get_tf(query_term_id, int_document_id)\n",
    "    score = np.log(1 + tf) * idf\n",
    "    return score\n",
    "\n",
    "def bm25(int_document_id, query_term_id, document_term_freq, k1=1.2, b=0.75):\n",
    "    \"\"\"\n",
    "    \"\"\"\n",
    "    tf = get_tf(query_term_id, int_document_id)\n",
    "    doc_len = document_lengths[int_document_id]\n",
    "    term_score = ((k1+1) * tf)/(k1*((1-b)+b*(doc_len/avg_doc_length))+tf)\n",
    "    idf = np.log(total_nr_docs/document_term_freq)\n",
    "    score = term_score * idf\n",
    "    return score\n",
    "\n",
    "def jelinek_mercer(int_document_id, query_term_id, document_term_freq, l=0.5):\n",
    "    tf_doc = get_tf(query_term_id, int_document_id)\n",
    "    tf_col = get_tf(query_term_id)\n",
    "    doc_len = document_lengths[int_document_id]\n",
    "    probability = l*(tf_doc/doc_len)+(1-l)*(tf_col/total_terms)\n",
    "    return np.log(probability)\n",
    "\n",
    "def dirichlet_prior(int_document_id, query_term_id, document_term_freq, mu=1000):\n",
    "    tf = get_tf(query_term_id, int_document_id)\n",
    "    bg_prob = get_bg_prob(query_term_id, document_term_freq)\n",
    "    doc_len = document_lengths[int_document_id]\n",
    "    probability = (tf + mu*bg_prob)/(doc_len + mu)\n",
    "    return np.log(probability)\n",
    "\n",
    "def absolute_discounting(int_document_id, query_term_id, document_term_freq, delta=0.5):\n",
    "    bg_prob = get_bg_prob(query_term_id, document_term_freq)\n",
    "    tf = get_tf(query_term_id, int_document_id)\n",
    "    doc_len = document_lengths[int_document_id]\n",
    "    unique_terms = unique_terms_per_document[int_document_id]\n",
    "    probability = (max(tf-delta, 0)/doc_len)+(delta*unique_terms/doc_len)*bg_prob\n",
    "    return np.log(probability)\n",
    "\n",
    "# combining the two functions above: \n",
    "# run_retrieval('tfidf', tfidf)\n",
    "# run_retrieval('bm25', bm25)\n",
    "# run_retrieval('jelinek_mercer0.5', jelinek_mercer)\n",
    "# run_retrieval('dirichlet_prior1000', dirichlet_prior)\n",
    "# run_retrieval('absolute_discounting0.5', absolute_discounting)\n",
    "\n",
    "\n",
    "\n",
    "# TODO implement tools to help you with the analysis of the results."
   ]
  },
  {
   "cell_type": "code",
   "execution_count": null,
   "metadata": {
    "collapsed": true
   },
   "outputs": [],
   "source": [
    "import os\n",
    "import re\n",
    "from subprocess import PIPE, run\n",
    "import matplotlib.pyplot as plt\n",
    "import numpy as np"
   ]
  },
  {
   "cell_type": "code",
   "execution_count": null,
   "metadata": {},
   "outputs": [
    {
     "name": "stdout",
     "output_type": "stream",
     "text": [
      "Initializing word2vec.\n",
      "Loading vocabulary.\n",
      "Constructing word2vec vocabulary.\n",
      "Epoch %d 1\n",
      "Epoch %d 2\n",
      "Epoch %d 3\n",
      "Epoch %d 4\n",
      "Epoch %d 5\n"
     ]
    }
   ],
   "source": [
    "import copy\n",
    "import gensim\n",
    "import pyndri\n",
    "import pyndri.compat\n",
    "import sys\n",
    "\n",
    "print('Initializing word2vec.')\n",
    "\n",
    "word2vec_init = gensim.models.Word2Vec(\n",
    "    size=300,  # Embedding size\n",
    "    window=5,  # One-sided window size\n",
    "    sg=True,  # Skip-gram.\n",
    "    min_count=5,  # Minimum word frequency.\n",
    "    sample=1e-3,  # Sub-sample threshold.\n",
    "    hs=False,  # Hierarchical softmax.\n",
    "    negative=10,  # Number of negative examples.\n",
    "    iter=1,  # Number of iterations.\n",
    "    workers=8,  # Number of workers.\n",
    ")\n",
    "\n",
    "print('Loading vocabulary.')\n",
    "\n",
    "dictionary = pyndri.extract_dictionary(index)\n",
    "sentences = pyndri.compat.IndriSentences(index, dictionary)\n",
    "\n",
    "print('Constructing word2vec vocabulary.')\n",
    "\n",
    "# Build vocab.\n",
    "word2vec_init.build_vocab(sentences, trim_rule=None)\n",
    "\n",
    "models = [word2vec_init]\n",
    "\n",
    "for epoch in range(1, 5 + 1):\n",
    "    print('Epoch %d', epoch)\n",
    "\n",
    "    model = copy.deepcopy(models[-1])\n",
    "    model.train(sentences, total_examples=model.corpus_count, epochs=model.iter)\n",
    "\n",
    "    models.append(model)\n",
    "\n",
    "print('Trained models: %s', models)"
   ]
  },
  {
   "cell_type": "markdown",
   "metadata": {},
   "source": [
    "### Task 2: Latent Semantic Models (LSMs) [20 points] ###\n",
    "\n",
    "In this task you will experiment with applying distributional semantics methods ([LSI](http://lsa3.colorado.edu/papers/JASIS.lsi.90.pdf) **[5 points]** and [LDA](https://www.cs.princeton.edu/~blei/papers/BleiNgJordan2003.pdf) **[5 points]**) for retrieval.\n",
    "\n",
    "You do not need to implement LSI or LDA on your own. Instead, you can use [gensim](http://radimrehurek.com/gensim/index.html). An example on how to integrate Pyndri with Gensim for word2vec can be found [here](https://github.com/cvangysel/pyndri/blob/master/examples/word2vec.py). For the remaining latent vector space models, you will need to implement connector classes (such as `IndriSentences`) by yourself.\n",
    "\n",
    "In order to use a latent semantic model for retrieval, you need to:\n",
    "   * build a representation of the query **q**,\n",
    "   * build a representation of the document **d**,\n",
    "   * calculate the similarity between **q** and **d** (e.g., cosine similarity, KL-divergence).\n",
    "     \n",
    "The exact implementation here depends on the latent semantic model you are using. \n",
    "   \n",
    "Each of these LSMs come with various hyperparameters to tune. Make a choice on the parameters, and explicitly mention the reasons that led you to these decisions. You can use the validation set to optimize hyper parameters you see fit; motivate your decisions. In addition, mention clearly how the query/document representations were constructed for each LSM and explain your choices.\n",
    "\n",
    "In this experiment, you will first obtain an initial top-1000 ranking for each query using TF-IDF in **Task 1**, and then re-rank the documents using the LSMs. Use TREC Eval to obtain the results and report on `NDCG@10`, Mean Average Precision (`MAP@1000`), `Precision@5` and `Recall@1000`.\n",
    "\n",
    "Perform significance testing **[5 points]** (similar as in Task 1) in the class of semantic matching methods.\n",
    "\n",
    "Perform analysis **[5 points]**"
   ]
  },
  {
   "cell_type": "code",
   "execution_count": null,
   "metadata": {
    "collapsed": true
   },
   "outputs": [],
   "source": [
    "#get top1000 tfidf documents for each query\n",
    "document_candidates = {}\n",
    "for line in open('results_run/tfidf.run'):\n",
    "    line = line.split(' ')\n",
    "    query_id = int(line[0])\n",
    "    int_doc_id = ext_to_int_doc_ids[line[2]]\n",
    "    if query_id not in document_candidates:\n",
    "        document_candidates[query_id] = []\n",
    "    document_candidates[query_id].append(int_doc_id)"
   ]
  },
  {
   "cell_type": "code",
   "execution_count": 130,
   "metadata": {},
   "outputs": [],
   "source": [
    "\n",
    "import copy\n",
    "import gensim\n",
    "import logging\n",
    "import pyndri\n",
    "import pyndri.compat\n",
    "from gensim import corpora, models, similarities\n",
    "import collections\n",
    "\n",
    "class IndriCorpus(gensim.interfaces.CorpusABC):\n",
    "\n",
    "    def __init__(self, index, dictionary, max_documents=None):\n",
    "        assert isinstance(index, pyndri.Index)\n",
    "\n",
    "        self.index = index\n",
    "        self.dictionary = dictionary\n",
    "\n",
    "        self.max_documents = max_documents\n",
    "\n",
    "    def _maximum_document(self):\n",
    "        if self.max_documents is None:\n",
    "            return self.index.maximum_document()\n",
    "        else:\n",
    "            return min(\n",
    "                self.max_documents + self.index.document_base(),\n",
    "                self.index.maximum_document())\n",
    "\n",
    "    def __iter__(self):\n",
    "        for int_doc_id in range(self.index.document_base(),\n",
    "                                self._maximum_document()):\n",
    "            ext_doc_id, tokens = self.index.document(int_doc_id)\n",
    "\n",
    "            # Compared to IndriSentences, the only difference is the\n",
    "            # switching of tuple(self.dictionary[token_id] ...) by\n",
    "            # sorted(collections.Counter(token_id ...).items()).\n",
    "            yield sorted(collections.Counter(\n",
    "                token_id\n",
    "                for token_id in tokens\n",
    "                if token_id > 0 and token_id in self.dictionary).items())\n"
   ]
  },
  {
   "cell_type": "markdown",
   "metadata": {},
   "source": [
    "### Task 3:  Word embeddings for ranking [10 points] ###\n",
    "\n",
    "First create word embeddings on the corpus we provided using [word2vec](http://arxiv.org/abs/1411.2738) -- [gensim implementation](https://radimrehurek.com/gensim/models/word2vec.html). You should extract the indexed documents using pyndri and provide them to gensim for training a model (see example [here](https://github.com/nickvosk/pyndri/blob/master/examples/word2vec.py)).\n",
    "\n",
    "Try one of the following (increasingly complex) methods for building query and document representations:\n",
    "   * Average or sum the word vectors.\n",
    "   * Cluster words in the document using [k-means](http://scikit-learn.org/stable/modules/generated/sklearn.cluster.KMeans.html) and use the centroid of the most important cluster. Experiment with different values of K for k-means.\n",
    "   * Using the [bag-of-word-embeddings representation](https://ciir-publications.cs.umass.edu/pub/web/getpdf.php?id=1248).\n",
    "   \n",
    "Note that since we provide the implementation for training word2vec, you will be graded based on your creativity on combining word embeddings for building query and document representations.\n",
    "\n",
    "Note: If you want to experiment with pre-trained word embeddings on a different corpus, you can use the word embeddings we provide alongside the assignment (./data/reduced_vectors_google.txt). These are the [google word2vec word embeddings](https://code.google.com/archive/p/word2vec/), reduced to only the words that appear in the document collection we use in this assignment."
   ]
  },
  {
   "cell_type": "code",
   "execution_count": null,
   "metadata": {
    "collapsed": true
   },
   "outputs": [],
   "source": []
  },
  {
   "cell_type": "markdown",
   "metadata": {},
   "source": [
    "### Task 4: Learning to rank (LTR) [10 points] ###\n",
    "\n",
    "In this task you will get an introduction into learning to rank for information retrieval, in particular pointwise learning to rank.\n",
    "\n",
    "You will experiment with a pointwise learning to rank method, logistic regression, implemented in [scikit-learn](http://scikit-learn.org/stable/modules/generated/sklearn.linear_model.LogisticRegression.html).\n",
    "Train your LTR model using 10-fold cross validation on the test set.\n",
    "\n",
    "You can explore different ways for devising features for the model. Obviously, you can use the retrieval methods you implemented in Task 1 and Task 2 as features. Think about other features you can use (e.g. query/document length). \n",
    "One idea is to also explore external sources such as Wikipedia entities (?). Creativity on devising new features and providing motivation for them will be taken into account when grading.\n",
    "\n",
    "For every query, first create a document candidate set using the top-1000 documents using TF-IDF, and subsequently compute features given a query and a document. Note that the feature values of different retrieval methods are likely to be distributed differently."
   ]
  },
  {
   "cell_type": "code",
   "execution_count": 108,
   "metadata": {},
   "outputs": [
    {
     "name": "stdout",
     "output_type": "stream",
     "text": [
      "Starting LTR\n",
      "LTR took 14.286895036697388 seconds.\n",
      "        query_id     ext_doc_id      tfidf  label  int_doc_id  query_len  \\\n",
      "0             51  AP880318-0287  26.731782    1.0      117156          2   \n",
      "1             51  AP880316-0292  23.996781    1.0       94324          2   \n",
      "2             51  AP880731-0085  22.807694    1.0      121752          2   \n",
      "3             51  AP880406-0267  22.098956    1.0      161440          2   \n",
      "4             51  AP880325-0293  21.144669    1.0      136511          2   \n",
      "5             51  AP880412-0268  19.974788    1.0      151497          2   \n",
      "6             51  AP880627-0045  19.843128    1.0      130354          2   \n",
      "7             51  AP881108-0253  17.127893    1.0      109695          2   \n",
      "8             51  AP880706-0311  16.425675    1.0      141758          2   \n",
      "9             51  AP890908-0222  15.534565    1.0       22212          2   \n",
      "10            51  AP890104-0259  14.364683    0.0       72252          2   \n",
      "11            51  AP891117-0213  13.861690    0.0       71198          2   \n",
      "12            51  AP880628-0310  13.861690    1.0      112418          2   \n",
      "13            51  AP880627-0093  13.861690    1.0      130402          2   \n",
      "14            51  AP881118-0209  13.805534    1.0       86746          2   \n",
      "15            51  AP890329-0221  13.310724    0.0       18299          2   \n",
      "16            51  AP880516-0318  13.310724    0.0      134548          2   \n",
      "17            51  AP890705-0196  13.190662    1.0       76706          2   \n",
      "18            51  AP881119-0051  12.883234    1.0      142165          2   \n",
      "19            51  AP891011-0255  12.701658    0.0       35524          2   \n",
      "20            51  AP880716-0076  12.701658    0.0      155395          2   \n",
      "21            51  AP880703-0077  12.701658    0.0      123822          2   \n",
      "22            51  AP880703-0076  12.701658    0.0      123821          2   \n",
      "23            51  AP880512-0314  12.701658    0.0      156641          2   \n",
      "24            51  AP880503-0244  12.701658    0.0       85263          2   \n",
      "25            51  AP880301-0271  12.701658    1.0      121638          2   \n",
      "26            51  AP880818-0272  12.435591    0.0      108457          2   \n",
      "27            51  AP880617-0267  12.086385    0.0      119931          2   \n",
      "28            51  AP891214-0204  12.020781    0.0       69515          2   \n",
      "29            51  AP880628-0170  12.020781    1.0      112278          2   \n",
      "...          ...            ...        ...    ...         ...        ...   \n",
      "145651       200  AP890627-0023   8.833422    0.0       47321          8   \n",
      "145652       200  AP891003-0263   8.831135    0.0       67101          8   \n",
      "145653       200  AP881105-0125   8.831135    0.0      119618          8   \n",
      "145654       200  AP881115-0268   8.828464    0.0      103039          8   \n",
      "145655       200  AP890613-0127   8.827071    0.0        5403          8   \n",
      "145656       200  AP881020-0028   8.827071    0.0      100247          8   \n",
      "145657       200  AP880519-0288   8.827071    0.0      111774          8   \n",
      "145658       200  AP890314-0301   8.824719    0.0       80953          8   \n",
      "145659       200  AP890902-0080   8.814350    0.0       21378          8   \n",
      "145660       200  AP880714-0140   8.814350    0.0       90989          8   \n",
      "145661       200  AP890818-0040   8.806924    0.0       30327          8   \n",
      "145662       200  AP890211-0028   8.806924    0.0        2319          8   \n",
      "145663       200  AP890106-0018   8.806924    0.0       16380          8   \n",
      "145664       200  AP880527-0029   8.806924    0.0      149310          8   \n",
      "145665       200  AP880428-0261   8.806924    0.0       96542          8   \n",
      "145666       200  AP880508-0095   8.803847    0.0      140340          8   \n",
      "145667       200  AP890914-0251   8.799660    0.0       76022          8   \n",
      "145668       200  AP881114-0115   8.799660    0.0      126234          8   \n",
      "145669       200  AP880901-0025   8.799660    0.0      115956          8   \n",
      "145670       200  AP880512-0040   8.799660    0.0      156367          8   \n",
      "145671       200  AP890616-0198   8.775470    0.0       66034          8   \n",
      "145672       200  AP890422-0092   8.775470    0.0       21558          8   \n",
      "145673       200  AP890413-0266   8.775470    0.0       39477          8   \n",
      "145674       200  AP880818-0288   8.775470    0.0      108473          8   \n",
      "145675       200  AP890214-0194   8.774705    0.0       68206          8   \n",
      "145676       200  AP891012-0276   8.774618    0.0       12101          8   \n",
      "145677       200  AP890920-0104   8.774618    0.0       33916          8   \n",
      "145678       200  AP890913-0278   8.774618    0.0       72552          8   \n",
      "145679       200  AP890510-0024   8.774618    0.0        4244          8   \n",
      "145680       200  AP881230-0137   8.774618    0.0       93591          8   \n",
      "\n",
      "        doc_len       bm25  jelinek_mercer  \n",
      "0           327  20.440730       -8.111136  \n",
      "1           229  20.402533       -7.974226  \n",
      "2           173  20.523467       -7.683004  \n",
      "3           196  20.261129       -7.951355  \n",
      "4           188  20.052506       -8.167374  \n",
      "5           337  15.872954      -10.172128  \n",
      "6           220  19.001308       -8.872563  \n",
      "7           206  16.661908       -9.726284  \n",
      "8           151  18.498701       -8.930646  \n",
      "9           239  16.963980      -10.028051  \n",
      "10          443  10.882718      -14.772737  \n",
      "11          353  11.021595      -14.641074  \n",
      "12          409  10.837011      -14.788177  \n",
      "13          205  11.541118      -14.097996  \n",
      "14          144  16.341342       -9.375042  \n",
      "15          372  10.792370      -14.798705  \n",
      "16          468  10.460070      -15.028005  \n",
      "17          464  13.019118      -11.856099  \n",
      "18          281  14.995920      -10.861865  \n",
      "19          318  10.805118      -14.759686  \n",
      "20          440  10.335151      -15.084018  \n",
      "21          399  10.488462      -14.986336  \n",
      "22          401  10.480878      -14.991330  \n",
      "23          181  11.386556      -14.196572  \n",
      "24          319  10.801092      -14.762823  \n",
      "25          199  11.306617      -14.291322  \n",
      "26          520   8.910216      -15.640592  \n",
      "27          441   8.983439      -15.556051  \n",
      "28          233  10.966588      -14.582371  \n",
      "29          295  10.680302      -14.818080  \n",
      "...         ...        ...             ...  \n",
      "145651      409   7.710706      -71.293175  \n",
      "145652      350   9.633925      -69.445853  \n",
      "145653      202  11.378585      -67.942066  \n",
      "145654      276  10.730115      -68.468152  \n",
      "145655      442   7.777596      -71.171240  \n",
      "145656      398   7.960804      -70.971160  \n",
      "145657      481   7.622925      -71.331861  \n",
      "145658      418   8.344271      -70.664821  \n",
      "145659      561   8.118220      -69.479025  \n",
      "145660      584   7.961159      -69.585843  \n",
      "145661      163  10.464972      -69.466567  \n",
      "145662      303   9.344060      -70.640989  \n",
      "145663      557   7.842005      -71.748626  \n",
      "145664      504   8.112643      -71.570746  \n",
      "145665      190  10.227020      -69.760174  \n",
      "145666      348   8.834119      -70.188182  \n",
      "145667      590   7.329412      -71.727813  \n",
      "145668      590   7.329412      -71.727813  \n",
      "145669      448   7.870046      -71.205467  \n",
      "145670      442   7.894690      -71.179706  \n",
      "145671      451   7.412727      -71.269478  \n",
      "145672      682   6.642823      -72.035155  \n",
      "145673      434   7.479155      -71.197264  \n",
      "145674      375   7.722885      -70.921223  \n",
      "145675      426   9.490526      -68.596088  \n",
      "145676      183   9.875139      -70.080428  \n",
      "145677       62  11.081797      -68.024417  \n",
      "145678      235   9.457391      -70.537153  \n",
      "145679      245   9.382272      -70.612340  \n",
      "145680      105  10.606929      -69.038144  \n",
      "\n",
      "[145681 rows x 9 columns]\n"
     ]
    }
   ],
   "source": [
    "import pandas as pd\n",
    "from sklearn.linear_model import LogisticRegression\n",
    "\n",
    "print('Starting LTR')\n",
    "\n",
    "start_time = time.time()\n",
    "\n",
    "model = LogisticRegression()\n",
    "\n",
    "testset = pd.read_table('ap_88_89/qrel_test', sep=' ', names=['query_id', '0', 'ext_doc_id', 'label'])\n",
    "tfidf_results = pd.read_table('results_run/tfidf.run', sep=' ', names=['query_id', 'Q0', 'ext_doc_id', 'rank', 'tfidf', 'method'])\n",
    "\n",
    "data = pd.merge(tfidf_results[['query_id', 'ext_doc_id', 'tfidf']], testset[['query_id', 'ext_doc_id', 'label']], how='left', on=['query_id', 'ext_doc_id'])\n",
    "data['label'].fillna(0.0, inplace=True)\n",
    "\n",
    "\n",
    "def get_bm25(x):\n",
    "    query = tokenized_queries[str(x['query_id'])]\n",
    "    int_doc_id = x['int_doc_id']\n",
    "    score = 0\n",
    "    for term_id in query:\n",
    "        doc_term_freq = len(inverted_index.get(term_id, 0))\n",
    "        score += bm25(int_doc_id, term_id, doc_term_freq)\n",
    "    return score\n",
    "\n",
    "def get_jelinek_mercer(x):\n",
    "    query = tokenized_queries[str(x['query_id'])]\n",
    "    int_doc_id = x['int_doc_id']\n",
    "    score = 0\n",
    "    for term_id in query:\n",
    "        doc_term_freq = len(inverted_index.get(term_id, 0))\n",
    "        score += jelinek_mercer(int_doc_id, term_id, doc_term_freq)\n",
    "    return score\n",
    "\n",
    "# doc_term_freq = len(inverted_index.get(term_id, 0))\n",
    "# score += score_fn(doc_id, term_id, doc_term_freq)\n",
    "\n",
    "data['int_doc_id'] = data['ext_doc_id'].apply(lambda ext_doc_id: ext_to_int_doc_ids[ext_doc_id])\n",
    "data['query_len'] = data['query_id'].apply(lambda query_id: len(tokenized_queries[str(query_id)]))\n",
    "data['doc_len'] = data['int_doc_id'].apply(lambda int_doc_id: document_lengths[int_doc_id])\n",
    "data['bm25'] = data.apply(get_bm25, axis=1)\n",
    "data['jelinek_mercer'] = data.apply(get_jelinek_mercer, axis=1)\n",
    "\n",
    "\n",
    "print('LTR took', time.time() - start_time, 'seconds.')\n",
    "print(data)"
   ]
  },
  {
   "cell_type": "code",
   "execution_count": null,
   "metadata": {},
   "outputs": [],
   "source": []
  },
  {
   "cell_type": "code",
   "execution_count": 118,
   "metadata": {},
   "outputs": [
    {
     "name": "stdout",
     "output_type": "stream",
     "text": [
      "[ 0.95078592  0.95119775  0.94975633  0.9490013   0.94858594  0.95002746\n",
      "  0.95078254  0.95318185  0.9512597   0.9489943 ]\n"
     ]
    }
   ],
   "source": [
    "# from sklearn import metrics, cross_validation\n",
    "# model = LogisticRegression()\n",
    "# predicted = cross_validation.cross_val_predict(model, X, y, cv=10)\n",
    "# print metrics.accuracy_score(y, predicted)\n",
    "# print metrics.classification_report(y, predicted) \n",
    "\n",
    "from sklearn.cross_validation import cross_val_score\n",
    "from sklearn.linear_model import LogisticRegression\n",
    "\n",
    "X = data[['tfidf']]\n",
    "# X = data.drop(['query_id', 'ext_doc_id', 'int_doc_id', 'label'], axis=1)\n",
    "y = data['label']\n",
    "\n",
    "scores = cross_val_score(LogisticRegression(), X, y, cv=10)\n",
    "print(scores)\n",
    "\n",
    "# [ 0.95037408  0.95174686  0.94975633  0.94872675  0.94947831  0.94906645\n",
    "#   0.95112576  0.95386833  0.9531132   0.93553923]\n"
   ]
  },
  {
   "cell_type": "code",
   "execution_count": null,
   "metadata": {
    "collapsed": true
   },
   "outputs": [],
   "source": []
  },
  {
   "cell_type": "markdown",
   "metadata": {
    "collapsed": true
   },
   "source": [
    "### Task 4: Write a report [20 points; instant FAIL if not provided] ###\n",
    "\n",
    "The report should be a PDF file created using the [sigconf ACM template](https://www.acm.org/publications/proceedings-template) and will determine a significant part of your grade.\n",
    "\n",
    "   * It should explain what you have implemented, motivate your experiments and detail what you expect to learn from them. **[10 points]**\n",
    "   * Lastly, provide a convincing analysis of your results and conclude the report accordingly. **[10 points]**\n",
    "      * Do all methods perform similarly on all queries? Why?\n",
    "      * Is there a single retrieval model that outperforms all other retrieval models (i.e., silver bullet)?\n",
    "      * ...\n",
    "\n",
    "**Hand in the report and your self-contained implementation source files.** Only send us the files that matter, organized in a well-documented zip/tgz file with clear instructions on how to reproduce your results. That is, we want to be able to regenerate all your results with minimal effort. You can assume that the index and ground-truth information is present in the same file structure as the one we have provided.\n"
   ]
  },
  {
   "cell_type": "code",
   "execution_count": null,
   "metadata": {
    "collapsed": true
   },
   "outputs": [],
   "source": []
  },
  {
   "cell_type": "code",
   "execution_count": null,
   "metadata": {
    "collapsed": true
   },
   "outputs": [],
   "source": []
  },
  {
   "cell_type": "code",
   "execution_count": null,
   "metadata": {
    "collapsed": true
   },
   "outputs": [],
   "source": []
  },
  {
   "cell_type": "code",
   "execution_count": null,
   "metadata": {
    "collapsed": true
   },
   "outputs": [],
   "source": []
  },
  {
   "cell_type": "code",
   "execution_count": null,
   "metadata": {
    "collapsed": true
   },
   "outputs": [],
   "source": []
  },
  {
   "cell_type": "code",
   "execution_count": null,
   "metadata": {
    "collapsed": true
   },
   "outputs": [],
   "source": []
  },
  {
   "cell_type": "code",
   "execution_count": null,
   "metadata": {
    "collapsed": true
   },
   "outputs": [],
   "source": []
  },
  {
   "cell_type": "code",
   "execution_count": null,
   "metadata": {
    "collapsed": true
   },
   "outputs": [],
   "source": []
  }
 ],
 "metadata": {
  "anaconda-cloud": {},
  "kernelspec": {
   "display_name": "Python 3",
   "language": "python",
   "name": "python3"
  },
  "language_info": {
   "codemirror_mode": {
    "name": "ipython",
    "version": 3
   },
   "file_extension": ".py",
   "mimetype": "text/x-python",
   "name": "python",
   "nbconvert_exporter": "python",
   "pygments_lexer": "ipython3",
   "version": "3.6.3"
  }
 },
 "nbformat": 4,
 "nbformat_minor": 1
}
